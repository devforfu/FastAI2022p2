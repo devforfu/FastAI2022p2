{
 "cells": [
  {
   "cell_type": "code",
   "execution_count": null,
   "id": "a1f58a4b-970a-4143-9fd6-c2ef38d4990f",
   "metadata": {},
   "outputs": [],
   "source": [
    "#|default_exp dataset"
   ]
  },
  {
   "cell_type": "code",
   "execution_count": null,
   "id": "bcf1866a-2d85-4c9c-9a6e-5a74b768ac24",
   "metadata": {},
   "outputs": [],
   "source": [
    "%cd ..\n",
    "%load_ext autoreload\n",
    "%autoreload 2"
   ]
  },
  {
   "cell_type": "code",
   "execution_count": null,
   "id": "44d1f4aa-295e-41ca-969b-55e1012af65f",
   "metadata": {},
   "outputs": [],
   "source": [
    "# Lesson 14: https://www.youtube.com/watch?v=veqj0DsZSXU\n",
    "# Lesson 15: https://www.youtube.com/watch?v=0Hi2r4CaHvk"
   ]
  },
  {
   "cell_type": "code",
   "execution_count": null,
   "id": "d63513fd-6188-4bd6-bf94-5ea92fc07a00",
   "metadata": {},
   "outputs": [],
   "source": [
    "import logging\n",
    "from typing import Any, Callable\n",
    "\n",
    "import datasets\n",
    "import torch\n",
    "import torchvision.transforms.functional as TF\n",
    "import matplotlib as mpl\n",
    "import matplotlib.pyplot as plt\n",
    "from datasets import load_dataset, load_dataset_builder\n",
    "\n",
    "from tensorviewer import tv, opts\n",
    "from tensorviewer.config import set_notebook"
   ]
  },
  {
   "cell_type": "code",
   "execution_count": null,
   "id": "adc9e976-82af-4741-950f-e61fce844012",
   "metadata": {},
   "outputs": [],
   "source": [
    "logging.disable(logging.WARNING)\n",
    "torch.set_printoptions(precision=2, linewidth=140, sci_mode=False)\n",
    "torch.manual_seed(1)\n",
    "mpl.rcParams[\"image.cmap\"] = \"gray_r\"\n",
    "set_notebook()"
   ]
  },
  {
   "cell_type": "code",
   "execution_count": null,
   "id": "65dac2ee-0967-4d63-baf3-23f70f266c16",
   "metadata": {},
   "outputs": [],
   "source": [
    "name = \"fashion_mnist\"\n",
    "builder = load_dataset_builder(name)"
   ]
  },
  {
   "cell_type": "code",
   "execution_count": null,
   "id": "6b635571-0ab7-4b29-8b5e-1a4f448a19fd",
   "metadata": {},
   "outputs": [],
   "source": [
    "print(builder.info.description)"
   ]
  },
  {
   "cell_type": "code",
   "execution_count": null,
   "id": "89039a9e-e973-4923-ae5f-6a5f202aeff6",
   "metadata": {},
   "outputs": [],
   "source": [
    "fashion = load_dataset(name, ignore_verifications=True)"
   ]
  },
  {
   "cell_type": "code",
   "execution_count": null,
   "id": "bc09ca73-bf85-49b9-9ee4-958b5b57b6ed",
   "metadata": {},
   "outputs": [],
   "source": [
    "fashion[\"train\"][0]"
   ]
  },
  {
   "cell_type": "code",
   "execution_count": null,
   "id": "a9114b3d-82a6-4ec4-92e8-30a1597aca57",
   "metadata": {},
   "outputs": [],
   "source": [
    "X_KEY, Y_KEY = list(fashion[\"train\"].features)"
   ]
  },
  {
   "cell_type": "code",
   "execution_count": null,
   "id": "fae96e74-8f4b-444c-9fbd-0ce1ce5ac2c2",
   "metadata": {},
   "outputs": [],
   "source": [
    "def inplace(func: Callable) -> Callable:\n",
    "    def _inner(obj: Any) -> Any:\n",
    "        func(obj)\n",
    "        return obj\n",
    "    return _inner"
   ]
  },
  {
   "cell_type": "code",
   "execution_count": null,
   "id": "26eceb7a-93c3-4f3e-b54e-00c6beb95165",
   "metadata": {},
   "outputs": [],
   "source": [
    "@inplace\n",
    "def transform(batch: dict): batch[X_KEY] = [TF.to_tensor(t) for t in batch[X_KEY]]"
   ]
  },
  {
   "cell_type": "code",
   "execution_count": null,
   "id": "33f522dd-9d8c-498b-800d-64f0c7ad76a7",
   "metadata": {},
   "outputs": [],
   "source": [
    "BATCH_SIZE = 256"
   ]
  },
  {
   "cell_type": "code",
   "execution_count": null,
   "id": "1e1dba3d-e9dc-4e59-95cc-854df83f4de8",
   "metadata": {},
   "outputs": [],
   "source": [
    "tds = fashion.with_transform(transform)"
   ]
  },
  {
   "cell_type": "code",
   "execution_count": null,
   "id": "eaa8a0f8-bb87-4863-a4b6-c72054bec96d",
   "metadata": {},
   "outputs": [],
   "source": [
    "tv(torch.stack(tds[\"train\"][:10][\"image\"]).squeeze(), axes_visible=False)"
   ]
  },
  {
   "cell_type": "code",
   "execution_count": null,
   "id": "003cb646-266a-4068-92af-610aa70a2223",
   "metadata": {},
   "outputs": [],
   "source": [
    "from torch.utils.data import DataLoader"
   ]
  },
  {
   "cell_type": "code",
   "execution_count": null,
   "id": "d47f76ad-7994-495f-8446-eaff20c79e89",
   "metadata": {},
   "outputs": [],
   "source": [
    "x = next(iter(DataLoader(tds[\"train\"])))"
   ]
  },
  {
   "cell_type": "code",
   "execution_count": null,
   "id": "a0b7ccfd-7c79-4677-a39d-01a54a519a7b",
   "metadata": {},
   "outputs": [],
   "source": [
    "from operator import itemgetter\n",
    "from typing import Mapping\n",
    "from torch.utils.data import default_collate\n",
    "\n",
    "DEFAULT_DEVICE = \"cuda:1\"\n",
    "\n",
    "LABELS = fashion[\"train\"].features[\"label\"].names\n",
    "\n",
    "def collate_dict(keys: list[str]):\n",
    "    get = itemgetter(*keys)\n",
    "    def _collate(batch: list[dict]):\n",
    "        return tuple(default_collate(t) for t in zip(*[get(d) for d in batch]))\n",
    "    return _collate\n",
    "\n",
    "def place_on_device(device: str = DEFAULT_DEVICE):    \n",
    "    def _on_device(collate: Callable):\n",
    "        def _wrapped(batch: tuple):\n",
    "            return to_device(collate(batch), device)\n",
    "        return _wrapped\n",
    "    return _on_device\n",
    "\n",
    "def to_device(x, device: str):\n",
    "    if isinstance(x, Mapping): return {k: v.to(device) for k, v in x.items()}\n",
    "    return type(x)(o.to(device) for o in x)\n",
    "\n",
    "def make_dls(datasets: dict, batch_size: int, **kwargs):\n",
    "    return {\n",
    "        key: DataLoader(dataset, batch_size, **kwargs) \n",
    "        for key, dataset in datasets.items()\n",
    "    }\n",
    "\n",
    "def get_labels(y): return itemgetter(*y)(LABELS)"
   ]
  },
  {
   "cell_type": "code",
   "execution_count": null,
   "id": "c9161a54-1261-4107-8a96-55cf24349e4e",
   "metadata": {},
   "outputs": [],
   "source": [
    "dls = make_dls(tds, 16, collate_fn=place_on_device()(collate_dict([\"image\", \"label\"])))"
   ]
  },
  {
   "cell_type": "code",
   "execution_count": null,
   "id": "2587ea69-1c3c-45e0-b340-f22c9a1eeda9",
   "metadata": {},
   "outputs": [],
   "source": [
    "x, y = next(iter(dls[\"train\"]))"
   ]
  },
  {
   "cell_type": "code",
   "execution_count": null,
   "id": "847339a0-7d0c-4675-9d9f-a3964bf48ce1",
   "metadata": {},
   "outputs": [],
   "source": [
    "with plt.rc_context({\"figure.figsize\": (8, 8), \"figure.dpi\": 70}):\n",
    "    tv(x.cpu().squeeze(), axes_titles=get_labels(y), axes_visible=False)"
   ]
  },
  {
   "cell_type": "code",
   "execution_count": null,
   "id": "2727246e-530b-4995-82bf-48d2235cd2af",
   "metadata": {},
   "outputs": [],
   "source": []
  }
 ],
 "metadata": {
  "kernelspec": {
   "display_name": "Python 3 (ipykernel)",
   "language": "python",
   "name": "python3"
  }
 },
 "nbformat": 4,
 "nbformat_minor": 5
}
