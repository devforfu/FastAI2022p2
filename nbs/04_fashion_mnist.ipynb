{
 "cells": [
  {
   "cell_type": "code",
   "execution_count": null,
   "id": "a1f58a4b-970a-4143-9fd6-c2ef38d4990f",
   "metadata": {},
   "outputs": [],
   "source": [
    "#|default_exp dataset"
   ]
  },
  {
   "cell_type": "code",
   "execution_count": null,
   "id": "bcf1866a-2d85-4c9c-9a6e-5a74b768ac24",
   "metadata": {},
   "outputs": [],
   "source": [
    "%cd ..\n",
    "%load_ext autoreload\n",
    "%autoreload 2"
   ]
  },
  {
   "cell_type": "code",
   "execution_count": null,
   "id": "44d1f4aa-295e-41ca-969b-55e1012af65f",
   "metadata": {},
   "outputs": [],
   "source": [
    "# Lesson 14: https://www.youtube.com/watch?v=veqj0DsZSXU\n",
    "# Lesson 15: https://www.youtube.com/watch?v=0Hi2r4CaHvk"
   ]
  },
  {
   "cell_type": "code",
   "execution_count": null,
   "id": "d63513fd-6188-4bd6-bf94-5ea92fc07a00",
   "metadata": {},
   "outputs": [],
   "source": [
    "import logging\n",
    "from typing import Any, Callable\n",
    "\n",
    "import datasets\n",
    "import torch\n",
    "import torchvision.transforms.functional as TF\n",
    "import matplotlib as mpl\n",
    "import matplotlib.pyplot as plt\n",
    "from datasets import load_dataset, load_dataset_builder\n",
    "\n",
    "from tensorviewer import tv\n",
    "from tensorviewer.config import set_notebook"
   ]
  },
  {
   "cell_type": "code",
   "execution_count": null,
   "id": "adc9e976-82af-4741-950f-e61fce844012",
   "metadata": {},
   "outputs": [],
   "source": [
    "logging.disable(logging.WARNING)\n",
    "torch.set_printoptions(precision=2, linewidth=140, sci_mode=False)\n",
    "torch.manual_seed(1)\n",
    "mpl.rcParams[\"image.cmap\"] = \"gray_r\"\n",
    "set_notebook()"
   ]
  },
  {
   "cell_type": "code",
   "execution_count": null,
   "id": "65dac2ee-0967-4d63-baf3-23f70f266c16",
   "metadata": {},
   "outputs": [],
   "source": [
    "name = \"fashion_mnist\"\n",
    "builder = load_dataset_builder(name)"
   ]
  },
  {
   "cell_type": "code",
   "execution_count": null,
   "id": "6b635571-0ab7-4b29-8b5e-1a4f448a19fd",
   "metadata": {},
   "outputs": [],
   "source": [
    "print(builder.info.description)"
   ]
  },
  {
   "cell_type": "code",
   "execution_count": null,
   "id": "89039a9e-e973-4923-ae5f-6a5f202aeff6",
   "metadata": {},
   "outputs": [],
   "source": [
    "fashion = load_dataset(name, ignore_verifications=True)"
   ]
  },
  {
   "cell_type": "code",
   "execution_count": null,
   "id": "bc09ca73-bf85-49b9-9ee4-958b5b57b6ed",
   "metadata": {},
   "outputs": [],
   "source": [
    "fashion[\"train\"][0]"
   ]
  },
  {
   "cell_type": "code",
   "execution_count": null,
   "id": "a9114b3d-82a6-4ec4-92e8-30a1597aca57",
   "metadata": {},
   "outputs": [],
   "source": [
    "X_KEY, Y_KEY = list(fashion[\"train\"].features)"
   ]
  },
  {
   "cell_type": "code",
   "execution_count": null,
   "id": "fae96e74-8f4b-444c-9fbd-0ce1ce5ac2c2",
   "metadata": {},
   "outputs": [],
   "source": [
    "def inplace(func: Callable) -> Callable:\n",
    "    def _inner(obj: Any) -> Any:\n",
    "        func(obj)\n",
    "        return obj\n",
    "    return _inner"
   ]
  },
  {
   "cell_type": "code",
   "execution_count": null,
   "id": "26eceb7a-93c3-4f3e-b54e-00c6beb95165",
   "metadata": {},
   "outputs": [],
   "source": [
    "@inplace\n",
    "def transform(batch: dict): batch[X_KEY] = [TF.to_tensor(t) for t in batch[X_KEY]]"
   ]
  },
  {
   "cell_type": "code",
   "execution_count": null,
   "id": "33f522dd-9d8c-498b-800d-64f0c7ad76a7",
   "metadata": {},
   "outputs": [],
   "source": [
    "BATCH_SIZE = 256"
   ]
  },
  {
   "cell_type": "code",
   "execution_count": null,
   "id": "1e1dba3d-e9dc-4e59-95cc-854df83f4de8",
   "metadata": {},
   "outputs": [],
   "source": [
    "tds = fashion.with_transform(transform)"
   ]
  },
  {
   "cell_type": "code",
   "execution_count": null,
   "id": "eaa8a0f8-bb87-4863-a4b6-c72054bec96d",
   "metadata": {},
   "outputs": [],
   "source": [
    "tv(torch.stack(tds[\"train\"][:10][\"image\"]).squeeze(), axes_visible=False)"
   ]
  },
  {
   "cell_type": "code",
   "execution_count": null,
   "id": "003cb646-266a-4068-92af-610aa70a2223",
   "metadata": {},
   "outputs": [],
   "source": [
    "from torch.utils.data import DataLoader"
   ]
  },
  {
   "cell_type": "code",
   "execution_count": null,
   "id": "d47f76ad-7994-495f-8446-eaff20c79e89",
   "metadata": {},
   "outputs": [],
   "source": [
    "x = next(iter(DataLoader(tds[\"train\"])))"
   ]
  },
  {
   "cell_type": "code",
   "execution_count": null,
   "id": "c0cd0093-eab6-4765-9ba0-d9f77bcef1e6",
   "metadata": {},
   "outputs": [],
   "source": [
    "type(x), x.keys()"
   ]
  },
  {
   "cell_type": "code",
   "execution_count": null,
   "id": "c2ddd0fb-2c38-4a5f-84ef-fb546a1efae9",
   "metadata": {},
   "outputs": [],
   "source": [
    "from operator import itemgetter"
   ]
  },
  {
   "cell_type": "code",
   "execution_count": null,
   "id": "f68c714e-220d-4cfb-a4e5-a5b62bf8adcc",
   "metadata": {},
   "outputs": [],
   "source": [
    "itemgetter(\"image\", \"label\")({\"image\": 1, \"label\": 2})"
   ]
  },
  {
   "cell_type": "code",
   "execution_count": null,
   "id": "e9562ef4-e611-4980-bc86-8d53c8e4f4b4",
   "metadata": {},
   "outputs": [],
   "source": [
    "data = [\n",
    "    {\"image\": 1, \"label\": 0},\n",
    "    {\"image\": 2, \"label\": 0},\n",
    "    {\"image\": 4, \"label\": 1},\n",
    "    {\"image\": 3, \"label\": 0},\n",
    "]\n",
    "\n",
    "get = itemgetter(\"image\", \"label\")\n",
    "\n",
    "list(zip(*[get(b) for b in data]))"
   ]
  },
  {
   "cell_type": "code",
   "execution_count": null,
   "id": "f99c8729-748b-45f0-8ed4-6f7eb324b18d",
   "metadata": {},
   "outputs": [],
   "source": [
    "torch.stack([\n",
    "    torch.tensor([[1, 2, 3]]),\n",
    "    torch.tensor([[1, 2, 3]]),\n",
    "    torch.tensor([[1, 2, 3]]),\n",
    "    torch.tensor([[1, 2, 3]]),\n",
    "]).shape"
   ]
  },
  {
   "cell_type": "code",
   "execution_count": null,
   "id": "e4e926df-59e6-4e5b-9ee0-24ef376c5c3c",
   "metadata": {},
   "outputs": [],
   "source": [
    "from torch.utils.data import default_collate"
   ]
  },
  {
   "cell_type": "code",
   "execution_count": null,
   "id": "a0b7ccfd-7c79-4677-a39d-01a54a519a7b",
   "metadata": {},
   "outputs": [],
   "source": [
    "from operator import itemgetter\n",
    "from typing import Mapping\n",
    "\n",
    "DEFAULT_DEVICE = \"cuda:1\"\n",
    "\n",
    "def collate_dict(keys: list[str]):\n",
    "    get = itemgetter(*keys)\n",
    "    def _collate(batch: list[dict]):\n",
    "        return tuple(default_collate(t) for t in zip(*[get(d) for d in batch]))\n",
    "    return _collate\n",
    "\n",
    "def place_on_device(device: str = DEFAULT_DEVICE):    \n",
    "    def _on_device(collate: Callable):\n",
    "        def _wrapped(batch: tuple):\n",
    "            return to_device(collate(batch), device)\n",
    "        return _wrapped\n",
    "    return _on_device\n",
    "\n",
    "def to_device(x, device: str):\n",
    "    if isinstance(x, Mapping): return {k: v.to(device) for k, v in x.items()}\n",
    "    return type(x)(o.to(device) for o in x)\n",
    "\n",
    "def make_dls(datasets: dict, batch_size: int, **kwargs):\n",
    "    return {\n",
    "        key: DataLoader(dataset, batch_size, **kwargs) \n",
    "        for key, dataset in datasets.items()\n",
    "    }"
   ]
  },
  {
   "cell_type": "code",
   "execution_count": null,
   "id": "c9161a54-1261-4107-8a96-55cf24349e4e",
   "metadata": {},
   "outputs": [],
   "source": [
    "dls = make_dls(tds, 4, collate_fn=place_on_device()(collate_dict([\"image\", \"label\"])))"
   ]
  },
  {
   "cell_type": "code",
   "execution_count": null,
   "id": "49dbdd24-1625-4b6e-8e24-5cbc0a9cd752",
   "metadata": {},
   "outputs": [],
   "source": [
    "x, y = next(iter(dls[\"train\"]))"
   ]
  },
  {
   "cell_type": "code",
   "execution_count": null,
   "id": "1dda7999-193f-4f6f-a67c-7bb670419563",
   "metadata": {},
   "outputs": [],
   "source": [
    "x.shape, y.shape, x.device, y.device"
   ]
  },
  {
   "cell_type": "code",
   "execution_count": null,
   "id": "3b7e6902-b918-4cda-a0dc-a1ee71917995",
   "metadata": {},
   "outputs": [],
   "source": []
  }
 ],
 "metadata": {
  "kernelspec": {
   "display_name": "Python 3 (ipykernel)",
   "language": "python",
   "name": "python3"
  }
 },
 "nbformat": 4,
 "nbformat_minor": 5
}
